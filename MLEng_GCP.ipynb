{
 "cells": [
  {
   "cell_type": "markdown",
   "id": "2fee81de",
   "metadata": {},
   "source": [
    "# Machine Learning Engineering\n",
    "\n",
    "## Sentiment Analysis Model Deployment and Cloud Integration"
   ]
  },
  {
   "cell_type": "markdown",
   "id": "ad99a208",
   "metadata": {},
   "source": [
    "### Description: Building a machine learning model using scikit learn and making it queriable using cloud functions"
   ]
  },
  {
   "cell_type": "markdown",
   "id": "a192af5d",
   "metadata": {},
   "source": [
    "I build a Machine Learning model that does sentiment analysis of financial text data using a Multinomial Naive Bayes classifier. "
   ]
  },
  {
   "cell_type": "code",
   "execution_count": 26,
   "id": "157c5fac",
   "metadata": {},
   "outputs": [
    {
     "name": "stdout",
     "output_type": "stream",
     "text": [
      "Requirement already satisfied: google-api-python-client in /Users/rheasethi/opt/anaconda3/lib/python3.9/site-packages (2.87.0)\n",
      "Requirement already satisfied: httplib2<1dev,>=0.15.0 in /Users/rheasethi/opt/anaconda3/lib/python3.9/site-packages (from google-api-python-client) (0.22.0)\n",
      "Requirement already satisfied: google-auth-httplib2>=0.1.0 in /Users/rheasethi/opt/anaconda3/lib/python3.9/site-packages (from google-api-python-client) (0.1.0)\n",
      "Requirement already satisfied: uritemplate<5,>=3.0.1 in /Users/rheasethi/opt/anaconda3/lib/python3.9/site-packages (from google-api-python-client) (4.1.1)\n",
      "Requirement already satisfied: google-api-core!=2.0.*,!=2.1.*,!=2.2.*,!=2.3.0,<3.0.0dev,>=1.31.5 in /Users/rheasethi/opt/anaconda3/lib/python3.9/site-packages (from google-api-python-client) (2.11.0)\n",
      "Requirement already satisfied: google-auth<3.0.0dev,>=1.19.0 in /Users/rheasethi/opt/anaconda3/lib/python3.9/site-packages (from google-api-python-client) (2.19.0)\n",
      "Requirement already satisfied: protobuf!=3.20.0,!=3.20.1,!=4.21.0,!=4.21.1,!=4.21.2,!=4.21.3,!=4.21.4,!=4.21.5,<5.0.0dev,>=3.19.5 in /Users/rheasethi/opt/anaconda3/lib/python3.9/site-packages (from google-api-core!=2.0.*,!=2.1.*,!=2.2.*,!=2.3.0,<3.0.0dev,>=1.31.5->google-api-python-client) (4.23.2)\n",
      "Requirement already satisfied: googleapis-common-protos<2.0dev,>=1.56.2 in /Users/rheasethi/opt/anaconda3/lib/python3.9/site-packages (from google-api-core!=2.0.*,!=2.1.*,!=2.2.*,!=2.3.0,<3.0.0dev,>=1.31.5->google-api-python-client) (1.59.0)\n",
      "Requirement already satisfied: requests<3.0.0dev,>=2.18.0 in /Users/rheasethi/opt/anaconda3/lib/python3.9/site-packages (from google-api-core!=2.0.*,!=2.1.*,!=2.2.*,!=2.3.0,<3.0.0dev,>=1.31.5->google-api-python-client) (2.27.1)\n",
      "Requirement already satisfied: six>=1.9.0 in /Users/rheasethi/opt/anaconda3/lib/python3.9/site-packages (from google-auth<3.0.0dev,>=1.19.0->google-api-python-client) (1.16.0)\n",
      "Requirement already satisfied: urllib3<2.0 in /Users/rheasethi/opt/anaconda3/lib/python3.9/site-packages (from google-auth<3.0.0dev,>=1.19.0->google-api-python-client) (1.26.9)\n",
      "Requirement already satisfied: pyasn1-modules>=0.2.1 in /Users/rheasethi/opt/anaconda3/lib/python3.9/site-packages (from google-auth<3.0.0dev,>=1.19.0->google-api-python-client) (0.2.8)\n",
      "Requirement already satisfied: cachetools<6.0,>=2.0.0 in /Users/rheasethi/opt/anaconda3/lib/python3.9/site-packages (from google-auth<3.0.0dev,>=1.19.0->google-api-python-client) (4.2.2)\n",
      "Requirement already satisfied: rsa<5,>=3.1.4 in /Users/rheasethi/opt/anaconda3/lib/python3.9/site-packages (from google-auth<3.0.0dev,>=1.19.0->google-api-python-client) (4.7.2)\n",
      "Requirement already satisfied: pyparsing!=3.0.0,!=3.0.1,!=3.0.2,!=3.0.3,<4,>=2.4.2 in /Users/rheasethi/opt/anaconda3/lib/python3.9/site-packages (from httplib2<1dev,>=0.15.0->google-api-python-client) (3.0.4)\n",
      "Requirement already satisfied: pyasn1<0.5.0,>=0.4.6 in /Users/rheasethi/opt/anaconda3/lib/python3.9/site-packages (from pyasn1-modules>=0.2.1->google-auth<3.0.0dev,>=1.19.0->google-api-python-client) (0.4.8)\n",
      "Requirement already satisfied: charset-normalizer~=2.0.0 in /Users/rheasethi/opt/anaconda3/lib/python3.9/site-packages (from requests<3.0.0dev,>=2.18.0->google-api-core!=2.0.*,!=2.1.*,!=2.2.*,!=2.3.0,<3.0.0dev,>=1.31.5->google-api-python-client) (2.0.4)\n",
      "Requirement already satisfied: idna<4,>=2.5 in /Users/rheasethi/opt/anaconda3/lib/python3.9/site-packages (from requests<3.0.0dev,>=2.18.0->google-api-core!=2.0.*,!=2.1.*,!=2.2.*,!=2.3.0,<3.0.0dev,>=1.31.5->google-api-python-client) (3.3)\n",
      "Requirement already satisfied: certifi>=2017.4.17 in /Users/rheasethi/opt/anaconda3/lib/python3.9/site-packages (from requests<3.0.0dev,>=2.18.0->google-api-core!=2.0.*,!=2.1.*,!=2.2.*,!=2.3.0,<3.0.0dev,>=1.31.5->google-api-python-client) (2021.10.8)\n",
      "Note: you may need to restart the kernel to use updated packages.\n"
     ]
    }
   ],
   "source": [
    "pip install google-api-python-client"
   ]
  },
  {
   "cell_type": "code",
   "execution_count": 1,
   "id": "76da54b7",
   "metadata": {},
   "outputs": [],
   "source": [
    "import pandas as pd\n",
    "import numpy as np\n",
    "import sklearn\n",
    "from google.cloud import storage\n",
    "import os\n",
    "from io import StringIO\n",
    "from io import BytesIO"
   ]
  },
  {
   "cell_type": "code",
   "execution_count": 2,
   "id": "bae6a804",
   "metadata": {},
   "outputs": [],
   "source": [
    "os.environ[\"GOOGLE_APPLICATION_CREDENTIALS\"] = \"Gcredentials_Rhea3.json\""
   ]
  },
  {
   "cell_type": "code",
   "execution_count": 3,
   "id": "07f5858e",
   "metadata": {},
   "outputs": [],
   "source": [
    "client = storage.Client()"
   ]
  },
  {
   "cell_type": "markdown",
   "id": "ae948423",
   "metadata": {},
   "source": [
    "### Training the ML model:"
   ]
  },
  {
   "cell_type": "code",
   "execution_count": 4,
   "id": "293ad50a",
   "metadata": {},
   "outputs": [],
   "source": [
    "# Importing data \n",
    "\n",
    "df = pd.read_csv(\"data.csv\")"
   ]
  },
  {
   "cell_type": "code",
   "execution_count": 5,
   "id": "18b24789",
   "metadata": {},
   "outputs": [
    {
     "data": {
      "text/html": [
       "<div>\n",
       "<style scoped>\n",
       "    .dataframe tbody tr th:only-of-type {\n",
       "        vertical-align: middle;\n",
       "    }\n",
       "\n",
       "    .dataframe tbody tr th {\n",
       "        vertical-align: top;\n",
       "    }\n",
       "\n",
       "    .dataframe thead th {\n",
       "        text-align: right;\n",
       "    }\n",
       "</style>\n",
       "<table border=\"1\" class=\"dataframe\">\n",
       "  <thead>\n",
       "    <tr style=\"text-align: right;\">\n",
       "      <th></th>\n",
       "      <th>Sentence</th>\n",
       "      <th>Sentiment</th>\n",
       "    </tr>\n",
       "  </thead>\n",
       "  <tbody>\n",
       "    <tr>\n",
       "      <th>0</th>\n",
       "      <td>The GeoSolutions technology will leverage Bene...</td>\n",
       "      <td>positive</td>\n",
       "    </tr>\n",
       "    <tr>\n",
       "      <th>1</th>\n",
       "      <td>$ESI on lows, down $1.50 to $2.50 BK a real po...</td>\n",
       "      <td>negative</td>\n",
       "    </tr>\n",
       "    <tr>\n",
       "      <th>2</th>\n",
       "      <td>For the last quarter of 2010 , Componenta 's n...</td>\n",
       "      <td>positive</td>\n",
       "    </tr>\n",
       "    <tr>\n",
       "      <th>3</th>\n",
       "      <td>According to the Finnish-Russian Chamber of Co...</td>\n",
       "      <td>neutral</td>\n",
       "    </tr>\n",
       "    <tr>\n",
       "      <th>4</th>\n",
       "      <td>The Swedish buyout firm has sold its remaining...</td>\n",
       "      <td>neutral</td>\n",
       "    </tr>\n",
       "  </tbody>\n",
       "</table>\n",
       "</div>"
      ],
      "text/plain": [
       "                                            Sentence Sentiment\n",
       "0  The GeoSolutions technology will leverage Bene...  positive\n",
       "1  $ESI on lows, down $1.50 to $2.50 BK a real po...  negative\n",
       "2  For the last quarter of 2010 , Componenta 's n...  positive\n",
       "3  According to the Finnish-Russian Chamber of Co...   neutral\n",
       "4  The Swedish buyout firm has sold its remaining...   neutral"
      ]
     },
     "execution_count": 5,
     "metadata": {},
     "output_type": "execute_result"
    }
   ],
   "source": [
    "df.head()"
   ]
  },
  {
   "cell_type": "code",
   "execution_count": 6,
   "id": "c1d3b757",
   "metadata": {},
   "outputs": [],
   "source": [
    "# Dropping duplicates\n",
    "\n",
    "df.drop_duplicates(inplace=True)"
   ]
  },
  {
   "cell_type": "code",
   "execution_count": 7,
   "id": "62011d41",
   "metadata": {},
   "outputs": [
    {
     "data": {
      "text/plain": [
       "neutral     3124\n",
       "positive    1852\n",
       "negative     860\n",
       "Name: Sentiment, dtype: int64"
      ]
     },
     "execution_count": 7,
     "metadata": {},
     "output_type": "execute_result"
    }
   ],
   "source": [
    "# Getting count of values for each class\n",
    "\n",
    "df['Sentiment'].value_counts()"
   ]
  },
  {
   "cell_type": "code",
   "execution_count": 8,
   "id": "0f277b5f",
   "metadata": {},
   "outputs": [
    {
     "name": "stderr",
     "output_type": "stream",
     "text": [
      "[nltk_data] Downloading package punkt to /Users/rheasethi/nltk_data...\n",
      "[nltk_data]   Package punkt is already up-to-date!\n",
      "[nltk_data] Downloading package stopwords to\n",
      "[nltk_data]     /Users/rheasethi/nltk_data...\n",
      "[nltk_data]   Package stopwords is already up-to-date!\n"
     ]
    },
    {
     "data": {
      "text/plain": [
       "True"
      ]
     },
     "execution_count": 8,
     "metadata": {},
     "output_type": "execute_result"
    }
   ],
   "source": [
    "# Importing necessary libraries for model\n",
    "\n",
    "import re\n",
    "import nltk\n",
    "from nltk.corpus import stopwords\n",
    "from nltk.stem import PorterStemmer\n",
    "from sklearn.pipeline import Pipeline\n",
    "from sklearn.feature_extraction.text import TfidfVectorizer\n",
    "from sklearn.naive_bayes import MultinomialNB\n",
    "from sklearn.metrics import accuracy_score\n",
    "from sklearn.model_selection import train_test_split\n",
    "import joblib\n",
    "from sklearn.pipeline import Pipeline\n",
    "\n",
    "nltk.download('punkt')\n",
    "nltk.download('stopwords')"
   ]
  },
  {
   "cell_type": "code",
   "execution_count": 9,
   "id": "ebdd286f",
   "metadata": {},
   "outputs": [],
   "source": [
    "# Defining X and y \n",
    "\n",
    "X = df['Sentence']\n",
    "y = df['Sentiment']"
   ]
  },
  {
   "cell_type": "code",
   "execution_count": 10,
   "id": "1e12cbf7",
   "metadata": {},
   "outputs": [],
   "source": [
    "# Split the data into training and testing sets\n",
    "\n",
    "X_train, X_test, y_train, y_test = train_test_split(X, y, test_size=0.2, random_state=42)"
   ]
  },
  {
   "cell_type": "code",
   "execution_count": 19,
   "id": "35a47075",
   "metadata": {},
   "outputs": [],
   "source": [
    "# Creating a pipeline for the preprocessing and for fitting the model \n",
    "\n",
    "pipeline = Pipeline([\n",
    "    ('preprocessing', TfidfVectorizer(\n",
    "        lowercase=True,\n",
    "        token_pattern=r'\\b\\w+\\b',\n",
    "        stop_words='english'\n",
    "    )),\n",
    "    ('classifier', MultinomialNB())\n",
    "])"
   ]
  },
  {
   "cell_type": "code",
   "execution_count": 12,
   "id": "55d033ba",
   "metadata": {},
   "outputs": [
    {
     "name": "stdout",
     "output_type": "stream",
     "text": [
      "Accuracy: 0.6806506849315068\n"
     ]
    }
   ],
   "source": [
    "# Train the model\n",
    "pipeline.fit(X_train, y_train)\n",
    "\n",
    "# Predict the sentiment for test data\n",
    "y_pred = pipeline.predict(X_test)\n",
    "\n",
    "# Evaluate accuracy\n",
    "accuracy = accuracy_score(y_test, y_pred)\n",
    "print(\"Accuracy:\", accuracy)"
   ]
  },
  {
   "cell_type": "code",
   "execution_count": 20,
   "id": "07104fdf",
   "metadata": {},
   "outputs": [
    {
     "data": {
      "text/plain": [
       "['sentiment_analysis_pipeline.pkl']"
      ]
     },
     "execution_count": 20,
     "metadata": {},
     "output_type": "execute_result"
    }
   ],
   "source": [
    "# Locally saving the model\n",
    "\n",
    "joblib.dump(pipeline, 'sentiment_analysis_pipeline.pkl')"
   ]
  },
  {
   "cell_type": "markdown",
   "id": "e89968d6",
   "metadata": {},
   "source": [
    "### Storing the pipeline on cloud:"
   ]
  },
  {
   "cell_type": "code",
   "execution_count": 21,
   "id": "b60cf082",
   "metadata": {},
   "outputs": [],
   "source": [
    "# Storing on cloud\n",
    "\n",
    "bucket = client.get_bucket(\"econ446hw2\")\n",
    "blob = bucket.blob(\"financial_sentiment/pipeline.pkl\")\n",
    "blob.upload_from_filename(\"sentiment_analysis_pipeline.pkl\")"
   ]
  },
  {
   "cell_type": "markdown",
   "id": "564b9d74",
   "metadata": {},
   "source": [
    "### Cloud Functions:"
   ]
  },
  {
   "cell_type": "code",
   "execution_count": 15,
   "id": "3a142fbd",
   "metadata": {},
   "outputs": [],
   "source": [
    "import google\n",
    "import joblib\n",
    "import pandas\n",
    "import requests\n",
    "import sklearn\n",
    "from urllib.parse import parse_qs\n",
    "from google.cloud import storage\n",
    "import os\n",
    "from io import StringIO\n",
    "from joblib import load\n",
    "from io import BytesIO"
   ]
  },
  {
   "cell_type": "code",
   "execution_count": 42,
   "id": "2bddd86e",
   "metadata": {},
   "outputs": [],
   "source": [
    "# Function to access the model from cloud\n",
    "\n",
    "def load_sentiment_model(file_name):\n",
    "    bucket_name = \"econ446hw2\"\n",
    "    source_blob = \"financial_sentiment/\" + file_name\n",
    "    \n",
    "    os.environ[\"GOOGLE_APPLICATION_CREDENTIALS\"] = \"Gcredentials_Rhea3.json\"\n",
    "    client = storage.Client()\n",
    "    \n",
    "    bucket = client.get_bucket(bucket_name)\n",
    "    blob = bucket.blob(source_blob)\n",
    "    \n",
    "    model_data = blob.download_as_bytes()\n",
    "    \n",
    "    model = joblib.load(BytesIO(model_data))\n",
    "    return(model)\n",
    "\n",
    "\n",
    "# Function that takes an input from user and returns model's prediction\n",
    "\n",
    "def sentiment_analysis(request):\n",
    "    try:\n",
    "        # Load the sentiment analysis pipeline\n",
    "        pipeline = load_sentiment_model(\"pipeline.pkl\")\n",
    "\n",
    "        # Get the input text from the request\n",
    "        input_text = request.get_data().decode()\n",
    "\n",
    "        # Preprocess and make predictions using the pipeline\n",
    "        prediction = pipeline.predict([input_text])[0]\n",
    "        probability = str(round(pipeline.predict_proba([input_text])[0][1]*100,2)) + \"%\"\n",
    "\n",
    "        # Return the sentiment prediction and probability as the response\n",
    "        return {\n",
    "            \"sentiment\": prediction,\n",
    "            \"probability\": probability\n",
    "        }\n",
    "\n",
    "    except Exception as e:\n",
    "        return {\"error\": str(e)}"
   ]
  },
  {
   "cell_type": "markdown",
   "id": "375b29cc",
   "metadata": {},
   "source": [
    "### Querying the model:"
   ]
  },
  {
   "cell_type": "code",
   "execution_count": 25,
   "id": "56e8399e",
   "metadata": {},
   "outputs": [],
   "source": [
    "url = \"https://us-central1-festive-airway-386516.cloudfunctions.net/nlpfunc\""
   ]
  },
  {
   "cell_type": "code",
   "execution_count": 30,
   "id": "5842446f",
   "metadata": {},
   "outputs": [],
   "source": [
    "r = requests.post(url, \"Nvidia shares had surged but are now pulling back\")"
   ]
  },
  {
   "cell_type": "code",
   "execution_count": 31,
   "id": "6a7d4e8f",
   "metadata": {},
   "outputs": [
    {
     "data": {
      "text/plain": [
       "'{\"probability\":\"42.14%\",\"sentiment\":\"neutral\"}\\n'"
      ]
     },
     "execution_count": 31,
     "metadata": {},
     "output_type": "execute_result"
    }
   ],
   "source": [
    "r.text"
   ]
  },
  {
   "cell_type": "markdown",
   "id": "2786f9cf",
   "metadata": {},
   "source": [
    "## Making a user-friendly page that takes inputs to my ML model and displays the output. "
   ]
  },
  {
   "cell_type": "code",
   "execution_count": 2,
   "id": "3ca8c745",
   "metadata": {},
   "outputs": [],
   "source": [
    "import ipywidgets as widgets\n",
    "from IPython.display import display"
   ]
  },
  {
   "cell_type": "code",
   "execution_count": 3,
   "id": "7ad3dc48",
   "metadata": {},
   "outputs": [],
   "source": [
    "input_text = widgets.Text(\n",
    "    value = \"\",\n",
    "    placeholder = \"Let's talk Finance\",\n",
    "    description = \"Input Text\",\n",
    "    disabled = False)\n",
    "\n",
    "button = widgets.Button(description = \"Click for Results!\")\n",
    "\n",
    "def my_function(button):\n",
    "    url = \"https://us-central1-festive-airway-386516.cloudfunctions.net/nlpfunc\"\n",
    "    r = requests.post(url, input_text.value)\n",
    "    \n",
    "    print(\"Prediction of Sentiment: \" , r.json()[\"sentiment\"])\n",
    "    print(\"Probability of Sentiment: \" , r.json()[\"probability\"])\n",
    "\n",
    "button.on_click(my_function)"
   ]
  },
  {
   "cell_type": "code",
   "execution_count": 4,
   "id": "58b7270b",
   "metadata": {},
   "outputs": [
    {
     "data": {
      "application/vnd.jupyter.widget-view+json": {
       "model_id": "17de399911624c98a5b2b2e6a3bd018a",
       "version_major": 2,
       "version_minor": 0
      },
      "text/plain": [
       "Text(value='', description='Input Text', placeholder=\"Let's talk Finance\")"
      ]
     },
     "metadata": {},
     "output_type": "display_data"
    },
    {
     "data": {
      "application/vnd.jupyter.widget-view+json": {
       "model_id": "a26c4d21120b4afeb1a641b42b00b8ba",
       "version_major": 2,
       "version_minor": 0
      },
      "text/plain": [
       "Button(description='Click for Results!', style=ButtonStyle())"
      ]
     },
     "metadata": {},
     "output_type": "display_data"
    },
    {
     "name": "stdout",
     "output_type": "stream",
     "text": [
      "Prediction of Sentiment:  neutral\n",
      "Probability of Sentiment:  60.92%\n",
      "Prediction of Sentiment:  neutral\n",
      "Probability of Sentiment:  50.64%\n",
      "Prediction of Sentiment:  positive\n",
      "Probability of Sentiment:  39.53%\n"
     ]
    }
   ],
   "source": [
    "display(input_text)\n",
    "display(button)"
   ]
  },
  {
   "cell_type": "markdown",
   "id": "6bdb4720",
   "metadata": {},
   "source": [
    "## Industrial Applications of this Project for Companies and Employees: "
   ]
  },
  {
   "cell_type": "markdown",
   "id": "3c4823c0",
   "metadata": {},
   "source": [
    "The ML app developed here for financial sentiment analysis can be highly valuable to companies and professionals in the financial domain, especially because of its accessibility and ease-of-use by virtue of it being on the cloud and the user-friendly GUI. \n",
    "\n",
    "Financial institutions could employ this sentiment analysis ML model at scale and across teams to analyze the sentiment of financial news, analyst reports, press releases etc. to gain valuable insights and enhance their operations and decision-making processes. The research and trading teams could use this to identify trends, assess market sentiment, and adjust their trading strategies. The risk management teams could leverage the model to monitor sentiment around specific financial instruments, industries, or market segments, helping them identify potential risks and take appropriate risk mitigation measures. \n",
    "\n",
    "Overall, the app empowers employees across various departments in financial firms to efficiently extract sentiment insights from financial data, enabling them to make data-driven decisions and gain a competitive edge in the industry."
   ]
  }
 ],
 "metadata": {
  "kernelspec": {
   "display_name": "Python 3 (ipykernel)",
   "language": "python",
   "name": "python3"
  },
  "language_info": {
   "codemirror_mode": {
    "name": "ipython",
    "version": 3
   },
   "file_extension": ".py",
   "mimetype": "text/x-python",
   "name": "python",
   "nbconvert_exporter": "python",
   "pygments_lexer": "ipython3",
   "version": "3.9.12"
  }
 },
 "nbformat": 4,
 "nbformat_minor": 5
}
